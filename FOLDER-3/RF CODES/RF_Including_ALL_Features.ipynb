{
 "cells": [
  {
   "cell_type": "code",
   "execution_count": 169,
   "id": "8085d7e8",
   "metadata": {},
   "outputs": [],
   "source": [
    "from sklearn.ensemble import RandomForestRegressor\n",
    "from sklearn.model_selection import train_test_split\n",
    "from sklearn.metrics import  mean_squared_error\n",
    "from sklearn.preprocessing import MinMaxScaler\n",
    "import pandas as pd\n",
    "import numpy as np\n",
    "import matplotlib.pyplot as plt"
   ]
  },
  {
   "cell_type": "code",
   "execution_count": 170,
   "id": "4de5ee0c",
   "metadata": {},
   "outputs": [],
   "source": [
    "df = pd.read_csv('lbp.csv')\n",
    "df_dates=pd.to_datetime(df['Date'])\n",
    "cols = list(df)[1:10]\n",
    "df1 = df[cols].astype(float)\n",
    "# df1"
   ]
  },
  {
   "cell_type": "code",
   "execution_count": 171,
   "id": "13975e59",
   "metadata": {},
   "outputs": [],
   "source": [
    "df2=np.array(df1)\n",
    "data = df2.reshape(28,4,9)\n",
    "# data"
   ]
  },
  {
   "cell_type": "code",
   "execution_count": 172,
   "id": "398fd2c1",
   "metadata": {},
   "outputs": [],
   "source": [
    "train_data1, test_data1 = train_test_split(data, test_size=0.53, shuffle=False)\n",
    "# train_data1.shape,test_data1.shape"
   ]
  },
  {
   "cell_type": "code",
   "execution_count": 173,
   "id": "f7ab059b",
   "metadata": {},
   "outputs": [
    {
     "data": {
      "text/plain": [
       "((13, 4, 8), (13,), (15, 4, 8), (15,))"
      ]
     },
     "execution_count": 173,
     "metadata": {},
     "output_type": "execute_result"
    }
   ],
   "source": [
    "train_data=train_data1[:,:,:-1]\n",
    "train_data_o=train_data1[:,-1,-1]\n",
    "test_data=test_data1[:,:,:-1]\n",
    "test_data_o=test_data1[:,-1,-1]\n",
    "train_data.shape,train_data_o.shape,test_data.shape,test_data_o.shape"
   ]
  },
  {
   "cell_type": "code",
   "execution_count": 174,
   "id": "98c49091",
   "metadata": {},
   "outputs": [
    {
     "data": {
      "text/plain": [
       "((13, 32), (15, 32))"
      ]
     },
     "execution_count": 174,
     "metadata": {},
     "output_type": "execute_result"
    }
   ],
   "source": [
    "train_data_flattened=train_data.reshape((train_data.shape[0],train_data.shape[1]*train_data.shape[2]))\n",
    "test_data_flattened=test_data.reshape((test_data.shape[0],test_data.shape[1]*test_data.shape[2]))\n",
    "train_data_flattened.shape,test_data_flattened.shape"
   ]
  },
  {
   "cell_type": "code",
   "execution_count": 175,
   "id": "ced89d7d",
   "metadata": {},
   "outputs": [],
   "source": [
    "scaler = MinMaxScaler(feature_range=(0, 1))\n",
    "train_x=scaler.fit_transform(train_data_flattened)\n",
    "train_y=scaler.fit_transform(train_data_o.reshape(-1,1)).reshape(train_data_o.shape)\n",
    "test_x=scaler.fit_transform(test_data_flattened)\n",
    "test_y=scaler.fit_transform(test_data_o.reshape(-1,1)).reshape(test_data_o.shape)"
   ]
  },
  {
   "cell_type": "code",
   "execution_count": 176,
   "id": "2b409888",
   "metadata": {},
   "outputs": [
    {
     "data": {
      "text/plain": [
       "(array([[40.09241667],\n",
       "        [40.121125  ],\n",
       "        [40.116     ],\n",
       "        [40.10554167],\n",
       "        [40.10566667],\n",
       "        [40.07266667],\n",
       "        [40.10175   ],\n",
       "        [40.094875  ],\n",
       "        [40.11045833],\n",
       "        [40.07541667],\n",
       "        [40.08079167],\n",
       "        [40.08133333],\n",
       "        [40.05658333],\n",
       "        [40.116625  ],\n",
       "        [40.10616667]]),\n",
       " array([[40.1],\n",
       "        [40.2],\n",
       "        [39.9],\n",
       "        [40.1],\n",
       "        [40.2],\n",
       "        [39.9],\n",
       "        [40.1],\n",
       "        [40.2],\n",
       "        [39.9],\n",
       "        [40.1],\n",
       "        [40.2],\n",
       "        [39.9],\n",
       "        [40.1],\n",
       "        [40.2],\n",
       "        [39.9]]))"
      ]
     },
     "execution_count": 176,
     "metadata": {},
     "output_type": "execute_result"
    }
   ],
   "source": [
    "regressor = RandomForestRegressor(n_estimators = 300)\n",
    "regressor.fit(train_x,train_y)\n",
    "\n",
    "Y_pred = regressor.predict(test_x)\n",
    "Y_pred_rescale=scaler.inverse_transform(Y_pred.reshape(-1,1))\n",
    "test_y_rescale=scaler.inverse_transform(test_y.reshape(-1,1))\n",
    "Y_pred_rescale,test_y_rescale"
   ]
  },
  {
   "cell_type": "code",
   "execution_count": 177,
   "id": "68ab34f5",
   "metadata": {},
   "outputs": [
    {
     "data": {
      "image/png": "[encoded data removed]",
      "text/plain": [
       "<Figure size 432x288 with 1 Axes>"
      ]
     },
     "metadata": {
      "needs_background": "light"
     },
     "output_type": "display_data"
    },
    {
     "name": "stdout",
     "output_type": "stream",
     "text": [
      "MSE:  0.016404194212963474\n",
      "RMSE:  0.1280788593522111\n"
     ]
    }
   ],
   "source": [
    "x_range=[39.85,40.25]\n",
    "y_range=[39.85,40.25]\n",
    "plt.xlim(x_range)\n",
    "plt.ylim(y_range)\n",
    "plt.plot(x_range, y_range, color='red')\n",
    "plt.scatter(test_y_rescale,Y_pred_rescale)\n",
    "plt.xlabel('Actual Values')\n",
    "plt.ylabel('Predicted Values')\n",
    "plt.title('Actual vs Predicted Values')\n",
    "plt.show()\n",
    "mse = mean_squared_error(test_y_rescale,Y_pred_rescale)\n",
    "rmse = np.sqrt(mse)\n",
    "print(\"MSE: \",  mse)\n",
    "print(\"RMSE: \", rmse)"
   ]
  }
 ],
 "metadata": {
  "kernelspec": {
   "display_name": "Python 3 (ipykernel)",
   "language": "python",
   "name": "python3"
  },
  "language_info": {
   "codemirror_mode": {
    "name": "ipython",
    "version": 3
   },
   "file_extension": ".py",
   "mimetype": "text/x-python",
   "name": "python",
   "nbconvert_exporter": "python",
   "pygments_lexer": "ipython3",
   "version": "3.9.12"
  }
 },
 "nbformat": 4,
 "nbformat_minor": 5
}
