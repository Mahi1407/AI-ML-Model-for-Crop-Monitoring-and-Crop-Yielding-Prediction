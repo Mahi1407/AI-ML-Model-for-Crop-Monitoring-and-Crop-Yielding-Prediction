{
 "cells": [
  {
   "cell_type": "code",
   "execution_count": 1,
   "id": "49f43db2",
   "metadata": {},
   "outputs": [],
   "source": [
    "import numpy as np\n",
    "import matplotlib.pyplot as plt\n",
    "import pandas as pd\n",
    "from sklearn.metrics import mean_squared_error\n",
    "from sklearn.preprocessing import MinMaxScaler\n",
    "from sklearn.ensemble import RandomForestRegressor\n",
    "from sklearn.model_selection import train_test_split"
   ]
  },
  {
   "cell_type": "code",
   "execution_count": 2,
   "id": "669be2e6",
   "metadata": {},
   "outputs": [
    {
     "data": {
      "text/plain": [
       "(28, 5)"
      ]
     },
     "execution_count": 2,
     "metadata": {},
     "output_type": "execute_result"
    }
   ],
   "source": [
    "datasets = pd.read_csv('x1.csv')\n",
    "data = np.array(datasets)\n",
    "data.shape"
   ]
  },
  {
   "cell_type": "code",
   "execution_count": 3,
   "id": "95d30fbd",
   "metadata": {},
   "outputs": [],
   "source": [
    "train_data1, test_data1 = train_test_split(data, test_size=0.53, shuffle=False)"
   ]
  },
  {
   "cell_type": "code",
   "execution_count": 4,
   "id": "57d7fdfc",
   "metadata": {},
   "outputs": [],
   "source": [
    "train_data=train_data1[:,:-1]\n",
    "train_data_o=train_data1[:,-1]\n",
    "test_data=test_data1[:,:-1]\n",
    "test_data_o=test_data1[:,-1]"
   ]
  },
  {
   "cell_type": "code",
   "execution_count": 5,
   "id": "2121927a",
   "metadata": {},
   "outputs": [],
   "source": [
    "scaler = MinMaxScaler(feature_range=(0, 1))\n",
    "train_x=scaler.fit_transform(train_data)\n",
    "train_y=scaler.fit_transform(train_data_o.reshape(-1,1)).reshape(train_data_o.shape)\n",
    "test_x=scaler.fit_transform(test_data)\n",
    "test_y=scaler.fit_transform(test_data_o.reshape(-1,1)).reshape(test_data_o.shape)"
   ]
  },
  {
   "cell_type": "code",
   "execution_count": 6,
   "id": "ac5baba6",
   "metadata": {},
   "outputs": [
    {
     "data": {
      "text/plain": [
       "(array([[40.01558333],\n",
       "        [40.07570833],\n",
       "        [40.127125  ],\n",
       "        [40.12520833],\n",
       "        [40.11491667],\n",
       "        [40.07508333],\n",
       "        [40.1175    ],\n",
       "        [40.09970833],\n",
       "        [40.12375   ],\n",
       "        [40.11908333],\n",
       "        [40.08054167],\n",
       "        [40.06229167],\n",
       "        [40.02145833],\n",
       "        [40.17404167],\n",
       "        [40.12920833]]),\n",
       " array([[40.1],\n",
       "        [40.2],\n",
       "        [39.9],\n",
       "        [40.1],\n",
       "        [40.2],\n",
       "        [39.9],\n",
       "        [40.1],\n",
       "        [40.2],\n",
       "        [39.9],\n",
       "        [40.1],\n",
       "        [40.2],\n",
       "        [39.9],\n",
       "        [40.1],\n",
       "        [40.2],\n",
       "        [39.9]]))"
      ]
     },
     "execution_count": 6,
     "metadata": {},
     "output_type": "execute_result"
    }
   ],
   "source": [
    "regressor = RandomForestRegressor(n_estimators = 300)\n",
    "regressor.fit(train_x,train_y)\n",
    "\n",
    "Y_pred = regressor.predict(test_x)\n",
    "Y_pred_rescale=scaler.inverse_transform(Y_pred.reshape(-1,1))\n",
    "test_y_rescale=scaler.inverse_transform(test_y.reshape(-1,1))\n",
    "Y_pred_rescale,test_y_rescale"
   ]
  },
  {
   "cell_type": "code",
   "execution_count": 7,
   "id": "ba137095",
   "metadata": {},
   "outputs": [
    {
     "data": {
      "image/png": "[encoded data removed]",
      "text/plain": [
       "<Figure size 432x288 with 1 Axes>"
      ]
     },
     "metadata": {
      "needs_background": "light"
     },
     "output_type": "display_data"
    },
    {
     "name": "stdout",
     "output_type": "stream",
     "text": [
      "MSE:  0.01823133576388942\n",
      "RMSE:  0.13502346375311744\n"
     ]
    }
   ],
   "source": [
    "x_range=[39.85,40.25]\n",
    "y_range=[39.85,40.25]\n",
    "plt.xlim(x_range)\n",
    "plt.ylim(y_range)\n",
    "plt.plot(x_range, y_range, color='red')\n",
    "plt.scatter(test_y_rescale,Y_pred_rescale)\n",
    "plt.xlabel('Actual Values')\n",
    "plt.ylabel('Predicted Values')\n",
    "plt.title('Actual vs Predicted Values')\n",
    "plt.show()\n",
    "mse = mean_squared_error(test_y_rescale,Y_pred_rescale)\n",
    "rmse = np.sqrt(mse)\n",
    "print(\"MSE: \",  mse)\n",
    "print(\"RMSE: \", rmse)"
   ]
  }
 ],
 "metadata": {
  "kernelspec": {
   "display_name": "Python 3 (ipykernel)",
   "language": "python",
   "name": "python3"
  },
  "language_info": {
   "codemirror_mode": {
    "name": "ipython",
    "version": 3
   },
   "file_extension": ".py",
   "mimetype": "text/x-python",
   "name": "python",
   "nbconvert_exporter": "python",
   "pygments_lexer": "ipython3",
   "version": "3.9.12"
  }
 },
 "nbformat": 4,
 "nbformat_minor": 5
}
