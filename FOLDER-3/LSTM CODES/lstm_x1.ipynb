{
 "cells": [
  {
   "cell_type": "code",
   "execution_count": 1,
   "id": "ddb01abe",
   "metadata": {},
   "outputs": [],
   "source": [
    "import numpy as np\n",
    "import matplotlib.pyplot as plt\n",
    "import pandas as pd\n",
    "from sklearn.model_selection import train_test_split\n",
    "from sklearn.preprocessing import MinMaxScaler\n",
    "from tensorflow.keras.models import Sequential\n",
    "from tensorflow.keras.layers import LSTM, Dense\n",
    "from sklearn.preprocessing import StandardScaler\n",
    "from sklearn.metrics import mean_squared_error"
   ]
  },
  {
   "cell_type": "code",
   "execution_count": 2,
   "id": "b4c4d4a5",
   "metadata": {},
   "outputs": [],
   "source": [
    "df = pd.read_csv('lbp.csv')\n",
    "df_dates=pd.to_datetime(df['Date'])\n",
    "cols = list(df)[1:10]\n",
    "df1 = df[cols].astype(float)\n",
    "# df1"
   ]
  },
  {
   "cell_type": "code",
   "execution_count": 3,
   "id": "40907d0e",
   "metadata": {},
   "outputs": [],
   "source": [
    "df2=np.array(df1)\n",
    "data = df2.reshape(28,4,9)\n",
    "# data"
   ]
  },
  {
   "cell_type": "code",
   "execution_count": 4,
   "id": "4bd0880b",
   "metadata": {},
   "outputs": [],
   "source": [
    "train_data1, test_data1 = train_test_split(data, test_size=0.53, shuffle=False)\n",
    "# train_data1.shape,test_data1.shape"
   ]
  },
  {
   "cell_type": "code",
   "execution_count": 5,
   "id": "f00b47d4",
   "metadata": {},
   "outputs": [
    {
     "data": {
      "text/plain": [
       "((13, 4, 1), (13, 1), (15, 4, 1), (15, 1))"
      ]
     },
     "execution_count": 5,
     "metadata": {},
     "output_type": "execute_result"
    }
   ],
   "source": [
    "train_data=train_data1[:,:,0:1]\n",
    "train_data_o=train_data1[:,-1,-1].reshape(-1,1)\n",
    "test_data=test_data1[:,:,0:1]\n",
    "test_data_o=test_data1[:,-1,-1].reshape(-1,1)\n",
    "train_data.shape,train_data_o.shape,test_data.shape,test_data_o.shape\n"
   ]
  },
  {
   "cell_type": "code",
   "execution_count": 6,
   "id": "0b251a04",
   "metadata": {},
   "outputs": [
    {
     "data": {
      "text/plain": [
       "((13, 4, 1), (15, 4, 1), (13, 1), (15, 1))"
      ]
     },
     "execution_count": 6,
     "metadata": {},
     "output_type": "execute_result"
    }
   ],
   "source": [
    "scaler = MinMaxScaler(feature_range=(0, 1))\n",
    "train_data = scaler.fit_transform(train_data.reshape(-1, 1)).reshape(train_data.shape)\n",
    "test_data = scaler.fit_transform(test_data.reshape(-1, 1)).reshape(test_data.shape)\n",
    "train_data_o = scaler.fit_transform(train_data_o)\n",
    "test_data_o = scaler.fit_transform(test_data_o)\n",
    "train_data.shape,test_data.shape,train_data_o.shape,test_data_o.shape"
   ]
  },
  {
   "cell_type": "code",
   "execution_count": 7,
   "id": "7672cf8c",
   "metadata": {},
   "outputs": [],
   "source": [
    "train_X = train_data[:, :,:]\n",
    "train_y = train_data_o\n",
    "test_X = test_data[:, :, :]\n",
    "test_y = test_data_o"
   ]
  },
  {
   "cell_type": "code",
   "execution_count": 8,
   "id": "e06c55ff",
   "metadata": {},
   "outputs": [],
   "source": [
    "model = Sequential()\n",
    "model.add(LSTM(50, input_shape=(train_X.shape[1], train_X.shape[2]),return_sequences=True))\n",
    "model.add(LSTM(50,return_sequences=True))\n",
    "model.add(LSTM(50))\n",
    "model.add(Dense(1))\n",
    "model.compile(loss='mse', optimizer='adam')\n",
    "# model.summary()\n"
   ]
  },
  {
   "cell_type": "code",
   "execution_count": 9,
   "id": "602f11da",
   "metadata": {},
   "outputs": [
    {
     "name": "stdout",
     "output_type": "stream",
     "text": [
      "Epoch 1/25\n",
      "1/1 - 13s - loss: 0.5305 - val_loss: 0.4702 - 13s/epoch - 13s/step\n",
      "Epoch 2/25\n",
      "1/1 - 0s - loss: 0.5157 - val_loss: 0.4580 - 65ms/epoch - 65ms/step\n",
      "Epoch 3/25\n",
      "1/1 - 0s - loss: 0.5011 - val_loss: 0.4458 - 62ms/epoch - 62ms/step\n",
      "Epoch 4/25\n",
      "1/1 - 0s - loss: 0.4863 - val_loss: 0.4332 - 79ms/epoch - 79ms/step\n",
      "Epoch 5/25\n",
      "1/1 - 0s - loss: 0.4712 - val_loss: 0.4202 - 63ms/epoch - 63ms/step\n",
      "Epoch 6/25\n",
      "1/1 - 0s - loss: 0.4556 - val_loss: 0.4066 - 65ms/epoch - 65ms/step\n",
      "Epoch 7/25\n",
      "1/1 - 0s - loss: 0.4393 - val_loss: 0.3924 - 68ms/epoch - 68ms/step\n",
      "Epoch 8/25\n",
      "1/1 - 0s - loss: 0.4221 - val_loss: 0.3774 - 66ms/epoch - 66ms/step\n",
      "Epoch 9/25\n",
      "1/1 - 0s - loss: 0.4040 - val_loss: 0.3617 - 58ms/epoch - 58ms/step\n",
      "Epoch 10/25\n",
      "1/1 - 0s - loss: 0.3850 - val_loss: 0.3451 - 63ms/epoch - 63ms/step\n",
      "Epoch 11/25\n",
      "1/1 - 0s - loss: 0.3648 - val_loss: 0.3277 - 65ms/epoch - 65ms/step\n",
      "Epoch 12/25\n",
      "1/1 - 0s - loss: 0.3436 - val_loss: 0.3095 - 67ms/epoch - 67ms/step\n",
      "Epoch 13/25\n",
      "1/1 - 0s - loss: 0.3214 - val_loss: 0.2907 - 59ms/epoch - 59ms/step\n",
      "Epoch 14/25\n",
      "1/1 - 0s - loss: 0.2983 - val_loss: 0.2713 - 79ms/epoch - 79ms/step\n",
      "Epoch 15/25\n",
      "1/1 - 0s - loss: 0.2745 - val_loss: 0.2517 - 63ms/epoch - 63ms/step\n",
      "Epoch 16/25\n",
      "1/1 - 0s - loss: 0.2505 - val_loss: 0.2324 - 75ms/epoch - 75ms/step\n",
      "Epoch 17/25\n",
      "1/1 - 0s - loss: 0.2267 - val_loss: 0.2141 - 63ms/epoch - 63ms/step\n",
      "Epoch 18/25\n",
      "1/1 - 0s - loss: 0.2041 - val_loss: 0.1975 - 79ms/epoch - 79ms/step\n",
      "Epoch 19/25\n",
      "1/1 - 0s - loss: 0.1838 - val_loss: 0.1840 - 79ms/epoch - 79ms/step\n",
      "Epoch 20/25\n",
      "1/1 - 0s - loss: 0.1674 - val_loss: 0.1749 - 63ms/epoch - 63ms/step\n",
      "Epoch 21/25\n",
      "1/1 - 0s - loss: 0.1568 - val_loss: 0.1719 - 69ms/epoch - 69ms/step\n",
      "Epoch 22/25\n",
      "1/1 - 0s - loss: 0.1541 - val_loss: 0.1755 - 74ms/epoch - 74ms/step\n",
      "Epoch 23/25\n",
      "1/1 - 0s - loss: 0.1596 - val_loss: 0.1835 - 63ms/epoch - 63ms/step\n",
      "Epoch 24/25\n",
      "1/1 - 0s - loss: 0.1702 - val_loss: 0.1915 - 65ms/epoch - 65ms/step\n",
      "Epoch 25/25\n",
      "1/1 - 0s - loss: 0.1797 - val_loss: 0.1956 - 65ms/epoch - 65ms/step\n",
      "1/1 [==============================] - 2s 2s/step\n"
     ]
    }
   ],
   "source": [
    "model.fit(train_X, train_y, epochs=25, batch_size=32, validation_data=(test_X, test_y), verbose=2)\n",
    "# Make predictions on the test data\n",
    "predictions = model.predict(test_X)\n",
    "# predictions,test_y"
   ]
  },
  {
   "cell_type": "code",
   "execution_count": 10,
   "id": "44d52d18",
   "metadata": {},
   "outputs": [
    {
     "data": {
      "text/plain": [
       "(array([[40.112072],\n",
       "        [40.111843],\n",
       "        [40.111523],\n",
       "        [40.1106  ],\n",
       "        [40.113438],\n",
       "        [40.11487 ],\n",
       "        [40.111305],\n",
       "        [40.10736 ],\n",
       "        [40.11142 ],\n",
       "        [40.111748],\n",
       "        [40.122578],\n",
       "        [40.117245],\n",
       "        [40.121864],\n",
       "        [40.111534],\n",
       "        [40.106453]], dtype=float32),\n",
       " array([[40.1],\n",
       "        [40.2],\n",
       "        [39.9],\n",
       "        [40.1],\n",
       "        [40.2],\n",
       "        [39.9],\n",
       "        [40.1],\n",
       "        [40.2],\n",
       "        [39.9],\n",
       "        [40.1],\n",
       "        [40.2],\n",
       "        [39.9],\n",
       "        [40.1],\n",
       "        [40.2],\n",
       "        [39.9]]))"
      ]
     },
     "execution_count": 10,
     "metadata": {},
     "output_type": "execute_result"
    }
   ],
   "source": [
    "test_y_rescale=scaler.inverse_transform(test_y)\n",
    "predictions_rescale=scaler.inverse_transform(predictions)\n",
    "predictions_rescale,test_y_rescale"
   ]
  },
  {
   "cell_type": "code",
   "execution_count": 11,
   "id": "e984c2f1",
   "metadata": {},
   "outputs": [
    {
     "data": {
      "image/png": "[encoded data removed]",
      "text/plain": [
       "<Figure size 432x288 with 1 Axes>"
      ]
     },
     "metadata": {
      "needs_background": "light"
     },
     "output_type": "display_data"
    },
    {
     "name": "stdout",
     "output_type": "stream",
     "text": [
      "MSE:  0.01760637372402354\n",
      "RMSE:  0.13268901131602248\n"
     ]
    }
   ],
   "source": [
    "x_range=[39.85,40.25]\n",
    "y_range=[39.85,40.25]\n",
    "plt.xlim(x_range)\n",
    "plt.ylim(y_range)\n",
    "plt.plot(x_range, y_range, color='red')\n",
    "plt.scatter(test_y_rescale,predictions_rescale)\n",
    "plt.xlabel('Actual Values')\n",
    "plt.ylabel('Predicted Values')\n",
    "plt.title('Actual vs Predicted Values')\n",
    "plt.show()\n",
    "mse = mean_squared_error(test_y_rescale,predictions_rescale)\n",
    "rmse = np.sqrt(mse)\n",
    "print(\"MSE: \",  mse)\n",
    "print(\"RMSE: \", rmse)"
   ]
  }
 ],
 "metadata": {
  "kernelspec": {
   "display_name": "Python 3 (ipykernel)",
   "language": "python",
   "name": "python3"
  },
  "language_info": {
   "codemirror_mode": {
    "name": "ipython",
    "version": 3
   },
   "file_extension": ".py",
   "mimetype": "text/x-python",
   "name": "python",
   "nbconvert_exporter": "python",
   "pygments_lexer": "ipython3",
   "version": "3.9.12"
  }
 },
 "nbformat": 4,
 "nbformat_minor": 5
}
