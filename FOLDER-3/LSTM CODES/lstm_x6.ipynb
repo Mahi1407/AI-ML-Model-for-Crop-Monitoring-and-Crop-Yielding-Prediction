{
 "cells": [
  {
   "cell_type": "code",
   "execution_count": 1,
   "id": "62c4baf6",
   "metadata": {},
   "outputs": [],
   "source": [
    "import numpy as np\n",
    "import matplotlib.pyplot as plt\n",
    "import pandas as pd\n",
    "from sklearn.model_selection import train_test_split\n",
    "from sklearn.preprocessing import MinMaxScaler\n",
    "from tensorflow.keras.models import Sequential\n",
    "from tensorflow.keras.layers import LSTM, Dense\n",
    "from sklearn.preprocessing import StandardScaler\n",
    "from sklearn.metrics import mean_squared_error"
   ]
  },
  {
   "cell_type": "code",
   "execution_count": 2,
   "id": "ac10c5b9",
   "metadata": {},
   "outputs": [],
   "source": [
    "df = pd.read_csv('lbp.csv')\n",
    "df_dates=pd.to_datetime(df['Date'])\n",
    "cols = list(df)[1:10]\n",
    "df1 = df[cols].astype(float)\n",
    "# df1"
   ]
  },
  {
   "cell_type": "code",
   "execution_count": 3,
   "id": "4010164f",
   "metadata": {},
   "outputs": [],
   "source": [
    "df2=np.array(df1)\n",
    "data = df2.reshape(28,4,9)\n",
    "# data"
   ]
  },
  {
   "cell_type": "code",
   "execution_count": 4,
   "id": "457348b4",
   "metadata": {},
   "outputs": [],
   "source": [
    "train_data1, test_data1 = train_test_split(data, test_size=0.53, shuffle=False)\n",
    "# train_data1.shape,test_data1.shape"
   ]
  },
  {
   "cell_type": "code",
   "execution_count": 5,
   "id": "5209613a",
   "metadata": {},
   "outputs": [
    {
     "data": {
      "text/plain": [
       "((13, 4, 1), (13, 1), (15, 4, 1), (15, 1))"
      ]
     },
     "execution_count": 5,
     "metadata": {},
     "output_type": "execute_result"
    }
   ],
   "source": [
    "train_data=train_data1[:,:,5:6]\n",
    "train_data_o=train_data1[:,-1,-1].reshape(-1,1)\n",
    "test_data=test_data1[:,:,5:6]\n",
    "test_data_o=test_data1[:,-1,-1].reshape(-1,1)\n",
    "train_data.shape,train_data_o.shape,test_data.shape,test_data_o.shape\n"
   ]
  },
  {
   "cell_type": "code",
   "execution_count": 6,
   "id": "c78697f1",
   "metadata": {},
   "outputs": [
    {
     "data": {
      "text/plain": [
       "((13, 4, 1), (15, 4, 1), (13, 1), (15, 1))"
      ]
     },
     "execution_count": 6,
     "metadata": {},
     "output_type": "execute_result"
    }
   ],
   "source": [
    "scaler = MinMaxScaler(feature_range=(0, 1))\n",
    "train_data = scaler.fit_transform(train_data.reshape(-1, 1)).reshape(train_data.shape)\n",
    "test_data = scaler.fit_transform(test_data.reshape(-1, 1)).reshape(test_data.shape)\n",
    "train_data_o = scaler.fit_transform(train_data_o)\n",
    "test_data_o = scaler.fit_transform(test_data_o)\n",
    "train_data.shape,test_data.shape,train_data_o.shape,test_data_o.shape"
   ]
  },
  {
   "cell_type": "code",
   "execution_count": 7,
   "id": "8cca9fa9",
   "metadata": {},
   "outputs": [],
   "source": [
    "train_X = train_data[:, :,:]\n",
    "train_y = train_data_o\n",
    "test_X = test_data[:, :, :]\n",
    "test_y = test_data_o"
   ]
  },
  {
   "cell_type": "code",
   "execution_count": 8,
   "id": "c3e48ba2",
   "metadata": {},
   "outputs": [],
   "source": [
    "model = Sequential()\n",
    "model.add(LSTM(50, input_shape=(train_X.shape[1], train_X.shape[2]),return_sequences=True))\n",
    "model.add(LSTM(50,return_sequences=True))\n",
    "model.add(LSTM(50))\n",
    "model.add(Dense(1))\n",
    "model.compile(loss='mse', optimizer='adam')\n",
    "# model.summary()\n"
   ]
  },
  {
   "cell_type": "code",
   "execution_count": 9,
   "id": "3b42d79c",
   "metadata": {},
   "outputs": [
    {
     "name": "stdout",
     "output_type": "stream",
     "text": [
      "Epoch 1/25\n",
      "1/1 - 10s - loss: 0.5250 - val_loss: 0.4656 - 10s/epoch - 10s/step\n",
      "Epoch 2/25\n",
      "1/1 - 0s - loss: 0.5080 - val_loss: 0.4523 - 71ms/epoch - 71ms/step\n",
      "Epoch 3/25\n",
      "1/1 - 0s - loss: 0.4911 - val_loss: 0.4387 - 45ms/epoch - 45ms/step\n",
      "Epoch 4/25\n",
      "1/1 - 0s - loss: 0.4738 - val_loss: 0.4247 - 47ms/epoch - 47ms/step\n",
      "Epoch 5/25\n",
      "1/1 - 0s - loss: 0.4559 - val_loss: 0.4101 - 47ms/epoch - 47ms/step\n",
      "Epoch 6/25\n",
      "1/1 - 0s - loss: 0.4372 - val_loss: 0.3947 - 68ms/epoch - 68ms/step\n",
      "Epoch 7/25\n",
      "1/1 - 0s - loss: 0.4175 - val_loss: 0.3786 - 52ms/epoch - 52ms/step\n",
      "Epoch 8/25\n",
      "1/1 - 0s - loss: 0.3968 - val_loss: 0.3616 - 49ms/epoch - 49ms/step\n",
      "Epoch 9/25\n",
      "1/1 - 0s - loss: 0.3750 - val_loss: 0.3437 - 45ms/epoch - 45ms/step\n",
      "Epoch 10/25\n",
      "1/1 - 0s - loss: 0.3519 - val_loss: 0.3250 - 75ms/epoch - 75ms/step\n",
      "Epoch 11/25\n",
      "1/1 - 0s - loss: 0.3278 - val_loss: 0.3056 - 46ms/epoch - 46ms/step\n",
      "Epoch 12/25\n",
      "1/1 - 0s - loss: 0.3027 - val_loss: 0.2856 - 56ms/epoch - 56ms/step\n",
      "Epoch 13/25\n",
      "1/1 - 0s - loss: 0.2769 - val_loss: 0.2653 - 53ms/epoch - 53ms/step\n",
      "Epoch 14/25\n",
      "1/1 - 0s - loss: 0.2509 - val_loss: 0.2451 - 62ms/epoch - 62ms/step\n",
      "Epoch 15/25\n",
      "1/1 - 0s - loss: 0.2252 - val_loss: 0.2257 - 36ms/epoch - 36ms/step\n",
      "Epoch 16/25\n",
      "1/1 - 0s - loss: 0.2009 - val_loss: 0.2079 - 50ms/epoch - 50ms/step\n",
      "Epoch 17/25\n",
      "1/1 - 0s - loss: 0.1793 - val_loss: 0.1930 - 49ms/epoch - 49ms/step\n",
      "Epoch 18/25\n",
      "1/1 - 0s - loss: 0.1622 - val_loss: 0.1823 - 77ms/epoch - 77ms/step\n",
      "Epoch 19/25\n",
      "1/1 - 0s - loss: 0.1520 - val_loss: 0.1772 - 57ms/epoch - 57ms/step\n",
      "Epoch 20/25\n",
      "1/1 - 0s - loss: 0.1505 - val_loss: 0.1784 - 47ms/epoch - 47ms/step\n",
      "Epoch 21/25\n",
      "1/1 - 0s - loss: 0.1581 - val_loss: 0.1836 - 47ms/epoch - 47ms/step\n",
      "Epoch 22/25\n",
      "1/1 - 0s - loss: 0.1704 - val_loss: 0.1889 - 47ms/epoch - 47ms/step\n",
      "Epoch 23/25\n",
      "1/1 - 0s - loss: 0.1801 - val_loss: 0.1911 - 62ms/epoch - 62ms/step\n",
      "Epoch 24/25\n",
      "1/1 - 0s - loss: 0.1830 - val_loss: 0.1900 - 69ms/epoch - 69ms/step\n",
      "Epoch 25/25\n",
      "1/1 - 0s - loss: 0.1791 - val_loss: 0.1866 - 80ms/epoch - 80ms/step\n",
      "1/1 [==============================] - 2s 2s/step\n"
     ]
    }
   ],
   "source": [
    "model.fit(train_X, train_y, epochs=25, batch_size=32, validation_data=(test_X, test_y), verbose=2)\n",
    "# Make predictions on the test data\n",
    "predictions = model.predict(test_X)\n",
    "# predictions"
   ]
  },
  {
   "cell_type": "code",
   "execution_count": 10,
   "id": "3d20c34f",
   "metadata": {},
   "outputs": [
    {
     "data": {
      "text/plain": [
       "(array([[40.092297],\n",
       "        [40.095276],\n",
       "        [40.098957],\n",
       "        [40.0946  ],\n",
       "        [40.09552 ],\n",
       "        [40.10311 ],\n",
       "        [40.096825],\n",
       "        [40.094578],\n",
       "        [40.09817 ],\n",
       "        [40.097034],\n",
       "        [40.09254 ],\n",
       "        [40.09163 ],\n",
       "        [40.090576],\n",
       "        [40.093613],\n",
       "        [40.09758 ]], dtype=float32),\n",
       " array([[40.1],\n",
       "        [40.2],\n",
       "        [39.9],\n",
       "        [40.1],\n",
       "        [40.2],\n",
       "        [39.9],\n",
       "        [40.1],\n",
       "        [40.2],\n",
       "        [39.9],\n",
       "        [40.1],\n",
       "        [40.2],\n",
       "        [39.9],\n",
       "        [40.1],\n",
       "        [40.2],\n",
       "        [39.9]]))"
      ]
     },
     "execution_count": 10,
     "metadata": {},
     "output_type": "execute_result"
    }
   ],
   "source": [
    "test_y_rescale=scaler.inverse_transform(test_y)\n",
    "predictions_rescale=scaler.inverse_transform(predictions)\n",
    "predictions_rescale,test_y_rescale"
   ]
  },
  {
   "cell_type": "code",
   "execution_count": 11,
   "id": "5b4c070e",
   "metadata": {},
   "outputs": [
    {
     "data": {
      "image/png": "[encoded data removed]",
      "text/plain": [
       "<Figure size 432x288 with 1 Axes>"
      ]
     },
     "metadata": {
      "needs_background": "light"
     },
     "output_type": "display_data"
    },
    {
     "name": "stdout",
     "output_type": "stream",
     "text": [
      "MSE:  0.016795229882894783\n",
      "RMSE:  0.12959641153556214\n"
     ]
    }
   ],
   "source": [
    "x_range=[39.85,40.25]\n",
    "y_range=[39.85,40.25]\n",
    "plt.xlim(x_range)\n",
    "plt.ylim(y_range)\n",
    "plt.plot(x_range, y_range, color='red')\n",
    "plt.scatter(test_y_rescale,predictions_rescale)\n",
    "plt.xlabel('Actual Values')\n",
    "plt.ylabel('Predicted Values')\n",
    "plt.title('Actual vs Predicted Values')\n",
    "plt.show()\n",
    "mse = mean_squared_error(test_y_rescale,predictions_rescale)\n",
    "rmse = np.sqrt(mse)\n",
    "print(\"MSE: \",  mse)\n",
    "print(\"RMSE: \", rmse)"
   ]
  }
 ],
 "metadata": {
  "kernelspec": {
   "display_name": "Python 3 (ipykernel)",
   "language": "python",
   "name": "python3"
  },
  "language_info": {
   "codemirror_mode": {
    "name": "ipython",
    "version": 3
   },
   "file_extension": ".py",
   "mimetype": "text/x-python",
   "name": "python",
   "nbconvert_exporter": "python",
   "pygments_lexer": "ipython3",
   "version": "3.9.12"
  }
 },
 "nbformat": 4,
 "nbformat_minor": 5
}
