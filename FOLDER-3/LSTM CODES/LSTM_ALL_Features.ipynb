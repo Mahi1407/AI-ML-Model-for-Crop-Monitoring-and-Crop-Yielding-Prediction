{
 "cells": [
  {
   "cell_type": "code",
   "execution_count": 2,
   "id": "7e28bb5e",
   "metadata": {},
   "outputs": [],
   "source": [
    "# libraries \n",
    "import numpy as np\n",
    "import matplotlib.pyplot as plt\n",
    "import pandas as pd\n",
    "from sklearn.model_selection import train_test_split\n",
    "from sklearn.preprocessing import MinMaxScaler\n",
    "from tensorflow.keras.models import Sequential\n",
    "from tensorflow.keras.layers import LSTM, Dense\n",
    "from sklearn.preprocessing import StandardScaler\n",
    "from sklearn.metrics import mean_squared_error"
   ]
  },
  {
   "cell_type": "code",
   "execution_count": 3,
   "id": "e6656c06",
   "metadata": {},
   "outputs": [
    {
     "data": {
      "text/html": [
       "<div>\n",
       "<style scoped>\n",
       "    .dataframe tbody tr th:only-of-type {\n",
       "        vertical-align: middle;\n",
       "    }\n",
       "\n",
       "    .dataframe tbody tr th {\n",
       "        vertical-align: top;\n",
       "    }\n",
       "\n",
       "    .dataframe thead th {\n",
       "        text-align: right;\n",
       "    }\n",
       "</style>\n",
       "<table border=\"1\" class=\"dataframe\">\n",
       "  <thead>\n",
       "    <tr style=\"text-align: right;\">\n",
       "      <th></th>\n",
       "      <th>x1</th>\n",
       "      <th>x2</th>\n",
       "      <th>x3</th>\n",
       "      <th>x4</th>\n",
       "      <th>x5</th>\n",
       "      <th>x6</th>\n",
       "      <th>x7</th>\n",
       "      <th>x8</th>\n",
       "      <th>y</th>\n",
       "    </tr>\n",
       "  </thead>\n",
       "  <tbody>\n",
       "    <tr>\n",
       "      <th>0</th>\n",
       "      <td>0.354</td>\n",
       "      <td>0.195</td>\n",
       "      <td>0.103</td>\n",
       "      <td>2.680</td>\n",
       "      <td>0.717</td>\n",
       "      <td>0.218</td>\n",
       "      <td>0.460</td>\n",
       "      <td>1.4</td>\n",
       "      <td>40.1</td>\n",
       "    </tr>\n",
       "    <tr>\n",
       "      <th>1</th>\n",
       "      <td>0.622</td>\n",
       "      <td>0.390</td>\n",
       "      <td>0.117</td>\n",
       "      <td>4.680</td>\n",
       "      <td>0.808</td>\n",
       "      <td>0.436</td>\n",
       "      <td>0.613</td>\n",
       "      <td>1.4</td>\n",
       "      <td>40.1</td>\n",
       "    </tr>\n",
       "    <tr>\n",
       "      <th>2</th>\n",
       "      <td>0.762</td>\n",
       "      <td>0.427</td>\n",
       "      <td>0.164</td>\n",
       "      <td>5.319</td>\n",
       "      <td>0.904</td>\n",
       "      <td>0.513</td>\n",
       "      <td>0.736</td>\n",
       "      <td>13.6</td>\n",
       "      <td>40.1</td>\n",
       "    </tr>\n",
       "    <tr>\n",
       "      <th>3</th>\n",
       "      <td>0.272</td>\n",
       "      <td>0.149</td>\n",
       "      <td>0.087</td>\n",
       "      <td>2.297</td>\n",
       "      <td>0.621</td>\n",
       "      <td>0.126</td>\n",
       "      <td>0.303</td>\n",
       "      <td>42.9</td>\n",
       "      <td>40.1</td>\n",
       "    </tr>\n",
       "    <tr>\n",
       "      <th>4</th>\n",
       "      <td>0.379</td>\n",
       "      <td>0.195</td>\n",
       "      <td>0.101</td>\n",
       "      <td>2.363</td>\n",
       "      <td>0.735</td>\n",
       "      <td>0.226</td>\n",
       "      <td>0.482</td>\n",
       "      <td>1.4</td>\n",
       "      <td>40.3</td>\n",
       "    </tr>\n",
       "    <tr>\n",
       "      <th>...</th>\n",
       "      <td>...</td>\n",
       "      <td>...</td>\n",
       "      <td>...</td>\n",
       "      <td>...</td>\n",
       "      <td>...</td>\n",
       "      <td>...</td>\n",
       "      <td>...</td>\n",
       "      <td>...</td>\n",
       "      <td>...</td>\n",
       "    </tr>\n",
       "    <tr>\n",
       "      <th>107</th>\n",
       "      <td>0.758</td>\n",
       "      <td>0.547</td>\n",
       "      <td>0.351</td>\n",
       "      <td>4.134</td>\n",
       "      <td>0.896</td>\n",
       "      <td>0.553</td>\n",
       "      <td>0.703</td>\n",
       "      <td>139.0</td>\n",
       "      <td>40.2</td>\n",
       "    </tr>\n",
       "    <tr>\n",
       "      <th>108</th>\n",
       "      <td>0.209</td>\n",
       "      <td>0.123</td>\n",
       "      <td>0.108</td>\n",
       "      <td>1.579</td>\n",
       "      <td>0.607</td>\n",
       "      <td>0.139</td>\n",
       "      <td>0.312</td>\n",
       "      <td>50.2</td>\n",
       "      <td>39.9</td>\n",
       "    </tr>\n",
       "    <tr>\n",
       "      <th>109</th>\n",
       "      <td>0.351</td>\n",
       "      <td>0.227</td>\n",
       "      <td>0.208</td>\n",
       "      <td>3.050</td>\n",
       "      <td>0.736</td>\n",
       "      <td>0.210</td>\n",
       "      <td>0.442</td>\n",
       "      <td>33.5</td>\n",
       "      <td>39.9</td>\n",
       "    </tr>\n",
       "    <tr>\n",
       "      <th>110</th>\n",
       "      <td>0.558</td>\n",
       "      <td>0.368</td>\n",
       "      <td>0.277</td>\n",
       "      <td>3.958</td>\n",
       "      <td>0.812</td>\n",
       "      <td>0.455</td>\n",
       "      <td>0.527</td>\n",
       "      <td>31.0</td>\n",
       "      <td>39.9</td>\n",
       "    </tr>\n",
       "    <tr>\n",
       "      <th>111</th>\n",
       "      <td>0.673</td>\n",
       "      <td>0.438</td>\n",
       "      <td>0.355</td>\n",
       "      <td>4.001</td>\n",
       "      <td>0.898</td>\n",
       "      <td>0.533</td>\n",
       "      <td>0.636</td>\n",
       "      <td>139.0</td>\n",
       "      <td>39.9</td>\n",
       "    </tr>\n",
       "  </tbody>\n",
       "</table>\n",
       "<p>112 rows × 9 columns</p>\n",
       "</div>"
      ],
      "text/plain": [
       "        x1     x2     x3     x4     x5     x6     x7     x8     y\n",
       "0    0.354  0.195  0.103  2.680  0.717  0.218  0.460    1.4  40.1\n",
       "1    0.622  0.390  0.117  4.680  0.808  0.436  0.613    1.4  40.1\n",
       "2    0.762  0.427  0.164  5.319  0.904  0.513  0.736   13.6  40.1\n",
       "3    0.272  0.149  0.087  2.297  0.621  0.126  0.303   42.9  40.1\n",
       "4    0.379  0.195  0.101  2.363  0.735  0.226  0.482    1.4  40.3\n",
       "..     ...    ...    ...    ...    ...    ...    ...    ...   ...\n",
       "107  0.758  0.547  0.351  4.134  0.896  0.553  0.703  139.0  40.2\n",
       "108  0.209  0.123  0.108  1.579  0.607  0.139  0.312   50.2  39.9\n",
       "109  0.351  0.227  0.208  3.050  0.736  0.210  0.442   33.5  39.9\n",
       "110  0.558  0.368  0.277  3.958  0.812  0.455  0.527   31.0  39.9\n",
       "111  0.673  0.438  0.355  4.001  0.898  0.533  0.636  139.0  39.9\n",
       "\n",
       "[112 rows x 9 columns]"
      ]
     },
     "execution_count": 3,
     "metadata": {},
     "output_type": "execute_result"
    }
   ],
   "source": [
    "df = pd.read_csv('lbp.csv')          # reading the data \n",
    "df_dates=pd.to_datetime(df['Date'])  # wea are taking out Date column from the data and storing in df_dates in datetime format.\n",
    "cols = list(df)[1:10]                # ['x1', 'x2', 'x3', 'x4', 'x5', 'x6', 'x7', 'x8', 'y']  here xi is ith feature and y is output\n",
    "df1 = df[cols].astype(float)         # here we are converting all values in the above columns into float values\n",
    "df1"
   ]
  },
  {
   "cell_type": "code",
   "execution_count": 4,
   "id": "ce56601e",
   "metadata": {},
   "outputs": [
    {
     "data": {
      "text/plain": [
       "(28, 4, 9)"
      ]
     },
     "execution_count": 4,
     "metadata": {},
     "output_type": "execute_result"
    }
   ],
   "source": [
    "#reshaping the data\n",
    "df2=np.array(df1)\n",
    "data = df2.reshape(28,4,9)\n",
    "data.shape"
   ]
  },
  {
   "cell_type": "code",
   "execution_count": 5,
   "id": "999b0666",
   "metadata": {},
   "outputs": [
    {
     "data": {
      "text/plain": [
       "((13, 4, 9), (15, 4, 9))"
      ]
     },
     "execution_count": 5,
     "metadata": {},
     "output_type": "execute_result"
    }
   ],
   "source": [
    "# here i am splitting the data into train and test data\n",
    "train_data1, test_data1 = train_test_split(data, test_size=0.53, shuffle=False)\n",
    "train_data1.shape,test_data1.shape"
   ]
  },
  {
   "cell_type": "code",
   "execution_count": 6,
   "id": "72902fcc",
   "metadata": {},
   "outputs": [
    {
     "data": {
      "text/plain": [
       "((13, 4, 8), (13, 1), (15, 4, 8), (15, 1))"
      ]
     },
     "execution_count": 6,
     "metadata": {},
     "output_type": "execute_result"
    }
   ],
   "source": [
    "# seperating input and output of test data and traindata\n",
    "train_data=train_data1[:,:,:-1]\n",
    "train_data_o=train_data1[:,-1,-1].reshape(-1,1)\n",
    "test_data=test_data1[:,:,:-1]\n",
    "test_data_o=test_data1[:,-1,-1].reshape(-1,1)\n",
    "train_data.shape,train_data_o.shape,test_data.shape,test_data_o.shape"
   ]
  },
  {
   "cell_type": "code",
   "execution_count": 7,
   "id": "e2e33b62",
   "metadata": {},
   "outputs": [
    {
     "data": {
      "text/plain": [
       "((13, 4, 8), (15, 4, 8), (13, 1), (15, 1))"
      ]
     },
     "execution_count": 7,
     "metadata": {},
     "output_type": "execute_result"
    }
   ],
   "source": [
    "#scaling all values in the range 0 to 1.\n",
    "scaler = MinMaxScaler(feature_range=(0, 1))\n",
    "train_data = scaler.fit_transform(train_data.reshape(-1, 8)).reshape(train_data.shape)\n",
    "test_data = scaler.fit_transform(test_data.reshape(-1, 8)).reshape(test_data.shape)\n",
    "train_data_o = scaler.fit_transform(train_data_o)\n",
    "test_data_o = scaler.fit_transform(test_data_o)\n",
    "train_data.shape,test_data.shape,train_data_o.shape,test_data_o.shape"
   ]
  },
  {
   "cell_type": "code",
   "execution_count": 8,
   "id": "c988136a",
   "metadata": {},
   "outputs": [],
   "source": [
    "# copying train an test data into another variables.\n",
    "train_X = train_data[:, :,:]\n",
    "train_y = train_data_o\n",
    "test_X = test_data[:, :, :]\n",
    "test_y = test_data_o"
   ]
  },
  {
   "cell_type": "code",
   "execution_count": 9,
   "id": "be6918c6",
   "metadata": {},
   "outputs": [],
   "source": [
    "# model.summary()\n",
    "model = Sequential()\n",
    "model.add(LSTM(50, input_shape=(train_X.shape[1], train_X.shape[2]),return_sequences=True))\n",
    "model.add(LSTM(50,return_sequences=True))\n",
    "model.add(LSTM(50))\n",
    "model.add(Dense(1))\n",
    "model.compile(loss='mse', optimizer='adam')\n",
    "\n"
   ]
  },
  {
   "cell_type": "code",
   "execution_count": 10,
   "id": "c5f9718b",
   "metadata": {},
   "outputs": [
    {
     "name": "stdout",
     "output_type": "stream",
     "text": [
      "Epoch 1/25\n",
      "1/1 - 13s - loss: 0.5352 - val_loss: 0.4682 - 13s/epoch - 13s/step\n",
      "Epoch 2/25\n",
      "1/1 - 0s - loss: 0.5094 - val_loss: 0.4487 - 66ms/epoch - 66ms/step\n",
      "Epoch 3/25\n",
      "1/1 - 0s - loss: 0.4842 - val_loss: 0.4293 - 63ms/epoch - 63ms/step\n",
      "Epoch 4/25\n",
      "1/1 - 0s - loss: 0.4593 - val_loss: 0.4099 - 70ms/epoch - 70ms/step\n",
      "Epoch 5/25\n",
      "1/1 - 0s - loss: 0.4342 - val_loss: 0.3902 - 63ms/epoch - 63ms/step\n",
      "Epoch 6/25\n",
      "1/1 - 0s - loss: 0.4086 - val_loss: 0.3700 - 63ms/epoch - 63ms/step\n",
      "Epoch 7/25\n",
      "1/1 - 0s - loss: 0.3822 - val_loss: 0.3491 - 55ms/epoch - 55ms/step\n",
      "Epoch 8/25\n",
      "1/1 - 0s - loss: 0.3548 - val_loss: 0.3276 - 70ms/epoch - 70ms/step\n",
      "Epoch 9/25\n",
      "1/1 - 0s - loss: 0.3264 - val_loss: 0.3054 - 61ms/epoch - 61ms/step\n",
      "Epoch 10/25\n",
      "1/1 - 0s - loss: 0.2970 - val_loss: 0.2828 - 67ms/epoch - 67ms/step\n",
      "Epoch 11/25\n",
      "1/1 - 0s - loss: 0.2669 - val_loss: 0.2602 - 62ms/epoch - 62ms/step\n",
      "Epoch 12/25\n",
      "1/1 - 0s - loss: 0.2366 - val_loss: 0.2379 - 59ms/epoch - 59ms/step\n",
      "Epoch 13/25\n",
      "1/1 - 0s - loss: 0.2067 - val_loss: 0.2169 - 77ms/epoch - 77ms/step\n",
      "Epoch 14/25\n",
      "1/1 - 0s - loss: 0.1785 - val_loss: 0.1983 - 92ms/epoch - 92ms/step\n",
      "Epoch 15/25\n",
      "1/1 - 0s - loss: 0.1537 - val_loss: 0.1836 - 81ms/epoch - 81ms/step\n",
      "Epoch 16/25\n",
      "1/1 - 0s - loss: 0.1345 - val_loss: 0.1747 - 77ms/epoch - 77ms/step\n",
      "Epoch 17/25\n",
      "1/1 - 0s - loss: 0.1236 - val_loss: 0.1731 - 51ms/epoch - 51ms/step\n",
      "Epoch 18/25\n",
      "1/1 - 0s - loss: 0.1232 - val_loss: 0.1788 - 48ms/epoch - 48ms/step\n",
      "Epoch 19/25\n",
      "1/1 - 0s - loss: 0.1324 - val_loss: 0.1878 - 72ms/epoch - 72ms/step\n",
      "Epoch 20/25\n",
      "1/1 - 0s - loss: 0.1448 - val_loss: 0.1945 - 69ms/epoch - 69ms/step\n",
      "Epoch 21/25\n",
      "1/1 - 0s - loss: 0.1522 - val_loss: 0.1962 - 74ms/epoch - 74ms/step\n",
      "Epoch 22/25\n",
      "1/1 - 0s - loss: 0.1509 - val_loss: 0.1932 - 79ms/epoch - 79ms/step\n",
      "Epoch 23/25\n",
      "1/1 - 0s - loss: 0.1426 - val_loss: 0.1877 - 81ms/epoch - 81ms/step\n",
      "Epoch 24/25\n",
      "1/1 - 0s - loss: 0.1308 - val_loss: 0.1818 - 80ms/epoch - 80ms/step\n",
      "Epoch 25/25\n",
      "1/1 - 0s - loss: 0.1192 - val_loss: 0.1771 - 53ms/epoch - 53ms/step\n",
      "1/1 [==============================] - 3s 3s/step\n"
     ]
    }
   ],
   "source": [
    "# Training the model with train data\n",
    "model.fit(train_X, train_y, epochs=25, batch_size=32, validation_data=(test_X, test_y), verbose=2)\n",
    "# Make predictions on the test data\n",
    "predictions = model.predict(test_X)\n",
    "# predictions"
   ]
  },
  {
   "cell_type": "code",
   "execution_count": 17,
   "id": "55fc07f3",
   "metadata": {},
   "outputs": [
    {
     "data": {
      "text/plain": [
       "(array([[40.07957 ],\n",
       "        [40.079823],\n",
       "        [40.08248 ],\n",
       "        [40.085155],\n",
       "        [40.085197],\n",
       "        [40.08899 ],\n",
       "        [40.08464 ],\n",
       "        [40.083874],\n",
       "        [40.086838],\n",
       "        [40.085056],\n",
       "        [40.09896 ],\n",
       "        [40.090614],\n",
       "        [40.095238],\n",
       "        [40.086708],\n",
       "        [40.083145]], dtype=float32),\n",
       " array([[40.1],\n",
       "        [40.2],\n",
       "        [39.9],\n",
       "        [40.1],\n",
       "        [40.2],\n",
       "        [39.9],\n",
       "        [40.1],\n",
       "        [40.2],\n",
       "        [39.9],\n",
       "        [40.1],\n",
       "        [40.2],\n",
       "        [39.9],\n",
       "        [40.1],\n",
       "        [40.2],\n",
       "        [39.9]]))"
      ]
     },
     "execution_count": 17,
     "metadata": {},
     "output_type": "execute_result"
    }
   ],
   "source": [
    "test_y_rescale=scaler.inverse_transform(test_y)\n",
    "predictions_rescale=scaler.inverse_transform(predictions)\n",
    "predictions_rescale,test_y_rescale"
   ]
  },
  {
   "cell_type": "code",
   "execution_count": 18,
   "id": "46d05189",
   "metadata": {},
   "outputs": [
    {
     "data": {
      "image/png": "[encoded data removed]",
      "text/plain": [
       "<Figure size 432x288 with 1 Axes>"
      ]
     },
     "metadata": {
      "needs_background": "light"
     },
     "output_type": "display_data"
    },
    {
     "name": "stdout",
     "output_type": "stream",
     "text": [
      "MSE:  0.01593812324747018\n",
      "RMSE:  0.1262462801331991\n"
     ]
    }
   ],
   "source": [
    "x_range=[39.85,40.25]\n",
    "y_range=[39.85,40.25]\n",
    "plt.xlim(x_range)\n",
    "plt.ylim(y_range)\n",
    "plt.plot(x_range, y_range, color='red')\n",
    "plt.scatter(test_y_rescale,predictions_rescale)\n",
    "plt.xlabel('Actual Values')\n",
    "plt.ylabel('Predicted Values')\n",
    "plt.title('Actual vs Predicted Values')\n",
    "plt.show()\n",
    "mse = mean_squared_error(test_y_rescale,predictions_rescale)\n",
    "rmse = np.sqrt(mse)\n",
    "print(\"MSE: \",  mse)\n",
    "print(\"RMSE: \", rmse)"
   ]
  },
  {
   "cell_type": "code",
   "execution_count": 19,
   "id": "3fac34e9",
   "metadata": {},
   "outputs": [
    {
     "data": {
      "text/plain": [
       "((28, 4, 8), (28, 1))"
      ]
     },
     "execution_count": 19,
     "metadata": {},
     "output_type": "execute_result"
    }
   ],
   "source": [
    "train_X.shape,test_X.shape\n",
    "test_all_input_X = np.concatenate([train_X,test_X])\n",
    "test_all_input_y = np.concatenate([train_y,test_y])\n",
    "test_all_input_X.shape,test_all_input_y.shape"
   ]
  },
  {
   "cell_type": "code",
   "execution_count": 20,
   "id": "95b28eba",
   "metadata": {},
   "outputs": [
    {
     "name": "stdout",
     "output_type": "stream",
     "text": [
      "1/1 [==============================] - 0s 46ms/step\n"
     ]
    }
   ],
   "source": [
    "p1 = model.predict(test_all_input_X)"
   ]
  },
  {
   "cell_type": "code",
   "execution_count": 21,
   "id": "98ba88dc",
   "metadata": {},
   "outputs": [],
   "source": [
    "t1_rescale=scaler.inverse_transform(test_all_input_y)\n",
    "p1_rescale=scaler.inverse_transform(p1)\n",
    "# p1_rescale,t1_rescale"
   ]
  },
  {
   "cell_type": "code",
   "execution_count": 22,
   "id": "dbfb311c",
   "metadata": {},
   "outputs": [
    {
     "data": {
      "image/png": "[encoded data removed]",
      "text/plain": [
       "<Figure size 432x288 with 1 Axes>"
      ]
     },
     "metadata": {
      "needs_background": "light"
     },
     "output_type": "display_data"
    },
    {
     "name": "stdout",
     "output_type": "stream",
     "text": [
      "MSE:  0.013126930949636104\n",
      "RMSE:  0.11457281941907559\n"
     ]
    }
   ],
   "source": [
    "x_range=[39.85,40.25]\n",
    "y_range=[39.85,40.25]\n",
    "plt.xlim(x_range)\n",
    "plt.ylim(y_range)\n",
    "plt.plot(x_range, y_range, color='red')\n",
    "plt.scatter(t1_rescale,p1_rescale)\n",
    "plt.xlabel('Actual Values')\n",
    "plt.ylabel('Predicted Values')\n",
    "plt.title('Actual vs Predicted Values')\n",
    "plt.show()\n",
    "mse1 = mean_squared_error(t1_rescale,p1_rescale)\n",
    "rmse1 = np.sqrt(mse1)\n",
    "print(\"MSE: \",  mse1)\n",
    "print(\"RMSE: \", rmse1)"
   ]
  }
 ],
 "metadata": {
  "kernelspec": {
   "display_name": "Python 3 (ipykernel)",
   "language": "python",
   "name": "python3"
  },
  "language_info": {
   "codemirror_mode": {
    "name": "ipython",
    "version": 3
   },
   "file_extension": ".py",
   "mimetype": "text/x-python",
   "name": "python",
   "nbconvert_exporter": "python",
   "pygments_lexer": "ipython3",
   "version": "3.9.12"
  }
 },
 "nbformat": 4,
 "nbformat_minor": 5
}
