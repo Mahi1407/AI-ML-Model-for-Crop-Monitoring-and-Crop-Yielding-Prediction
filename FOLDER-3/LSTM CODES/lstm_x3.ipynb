{
 "cells": [
  {
   "cell_type": "code",
   "execution_count": 1,
   "id": "62c4baf6",
   "metadata": {},
   "outputs": [],
   "source": [
    "import numpy as np\n",
    "import matplotlib.pyplot as plt\n",
    "import pandas as pd\n",
    "from sklearn.model_selection import train_test_split\n",
    "from sklearn.preprocessing import MinMaxScaler\n",
    "from tensorflow.keras.models import Sequential\n",
    "from tensorflow.keras.layers import LSTM, Dense\n",
    "from sklearn.preprocessing import StandardScaler\n",
    "from sklearn.metrics import mean_squared_error"
   ]
  },
  {
   "cell_type": "code",
   "execution_count": 2,
   "id": "ac10c5b9",
   "metadata": {},
   "outputs": [],
   "source": [
    "df = pd.read_csv('lbp.csv')\n",
    "df_dates=pd.to_datetime(df['Date'])\n",
    "cols = list(df)[1:10]\n",
    "df1 = df[cols].astype(float)\n",
    "# df1"
   ]
  },
  {
   "cell_type": "code",
   "execution_count": 3,
   "id": "4010164f",
   "metadata": {},
   "outputs": [],
   "source": [
    "df2=np.array(df1)\n",
    "data = df2.reshape(28,4,9)\n",
    "# data"
   ]
  },
  {
   "cell_type": "code",
   "execution_count": 4,
   "id": "457348b4",
   "metadata": {},
   "outputs": [],
   "source": [
    "train_data1, test_data1 = train_test_split(data, test_size=0.53, shuffle=False)\n",
    "# train_data1.shape,test_data1.shape"
   ]
  },
  {
   "cell_type": "code",
   "execution_count": 5,
   "id": "5209613a",
   "metadata": {},
   "outputs": [
    {
     "data": {
      "text/plain": [
       "((13, 4, 1), (13, 1), (15, 4, 1), (15, 1))"
      ]
     },
     "execution_count": 5,
     "metadata": {},
     "output_type": "execute_result"
    }
   ],
   "source": [
    "train_data=train_data1[:,:,2:3]\n",
    "train_data_o=train_data1[:,-1,-1].reshape(-1,1)\n",
    "test_data=test_data1[:,:,2:3]\n",
    "test_data_o=test_data1[:,-1,-1].reshape(-1,1)\n",
    "train_data.shape,train_data_o.shape,test_data.shape,test_data_o.shape\n"
   ]
  },
  {
   "cell_type": "code",
   "execution_count": 6,
   "id": "c78697f1",
   "metadata": {},
   "outputs": [
    {
     "data": {
      "text/plain": [
       "((13, 4, 1), (15, 4, 1), (13, 1), (15, 1))"
      ]
     },
     "execution_count": 6,
     "metadata": {},
     "output_type": "execute_result"
    }
   ],
   "source": [
    "scaler = MinMaxScaler(feature_range=(0, 1))\n",
    "train_data = scaler.fit_transform(train_data.reshape(-1, 1)).reshape(train_data.shape)\n",
    "test_data = scaler.fit_transform(test_data.reshape(-1, 1)).reshape(test_data.shape)\n",
    "train_data_o = scaler.fit_transform(train_data_o)\n",
    "test_data_o = scaler.fit_transform(test_data_o)\n",
    "train_data.shape,test_data.shape,train_data_o.shape,test_data_o.shape"
   ]
  },
  {
   "cell_type": "code",
   "execution_count": 7,
   "id": "8cca9fa9",
   "metadata": {},
   "outputs": [],
   "source": [
    "train_X = train_data[:, :,:]\n",
    "train_y = train_data_o\n",
    "test_X = test_data[:, :, :]\n",
    "test_y = test_data_o"
   ]
  },
  {
   "cell_type": "code",
   "execution_count": 8,
   "id": "c3e48ba2",
   "metadata": {},
   "outputs": [],
   "source": [
    "model = Sequential()\n",
    "model.add(LSTM(50, input_shape=(train_X.shape[1], train_X.shape[2]),return_sequences=True))\n",
    "model.add(LSTM(50,return_sequences=True))\n",
    "model.add(LSTM(50))\n",
    "model.add(Dense(1))\n",
    "model.compile(loss='mse', optimizer='adam')\n",
    "# model.summary()\n"
   ]
  },
  {
   "cell_type": "code",
   "execution_count": 9,
   "id": "3b42d79c",
   "metadata": {},
   "outputs": [
    {
     "name": "stdout",
     "output_type": "stream",
     "text": [
      "Epoch 1/25\n",
      "1/1 - 9s - loss: 0.5255 - val_loss: 0.4642 - 9s/epoch - 9s/step\n",
      "Epoch 2/25\n",
      "1/1 - 0s - loss: 0.5086 - val_loss: 0.4498 - 31ms/epoch - 31ms/step\n",
      "Epoch 3/25\n",
      "1/1 - 0s - loss: 0.4915 - val_loss: 0.4350 - 31ms/epoch - 31ms/step\n",
      "Epoch 4/25\n",
      "1/1 - 0s - loss: 0.4740 - val_loss: 0.4197 - 32ms/epoch - 32ms/step\n",
      "Epoch 5/25\n",
      "1/1 - 0s - loss: 0.4557 - val_loss: 0.4038 - 31ms/epoch - 31ms/step\n",
      "Epoch 6/25\n",
      "1/1 - 0s - loss: 0.4366 - val_loss: 0.3871 - 31ms/epoch - 31ms/step\n",
      "Epoch 7/25\n",
      "1/1 - 0s - loss: 0.4163 - val_loss: 0.3695 - 32ms/epoch - 32ms/step\n",
      "Epoch 8/25\n",
      "1/1 - 0s - loss: 0.3949 - val_loss: 0.3511 - 31ms/epoch - 31ms/step\n",
      "Epoch 9/25\n",
      "1/1 - 0s - loss: 0.3721 - val_loss: 0.3319 - 31ms/epoch - 31ms/step\n",
      "Epoch 10/25\n",
      "1/1 - 0s - loss: 0.3480 - val_loss: 0.3118 - 32ms/epoch - 32ms/step\n",
      "Epoch 11/25\n",
      "1/1 - 0s - loss: 0.3225 - val_loss: 0.2911 - 31ms/epoch - 31ms/step\n",
      "Epoch 12/25\n",
      "1/1 - 0s - loss: 0.2957 - val_loss: 0.2700 - 31ms/epoch - 31ms/step\n",
      "Epoch 13/25\n",
      "1/1 - 0s - loss: 0.2676 - val_loss: 0.2488 - 35ms/epoch - 35ms/step\n",
      "Epoch 14/25\n",
      "1/1 - 0s - loss: 0.2385 - val_loss: 0.2281 - 28ms/epoch - 28ms/step\n",
      "Epoch 15/25\n",
      "1/1 - 0s - loss: 0.2088 - val_loss: 0.2086 - 38ms/epoch - 38ms/step\n",
      "Epoch 16/25\n",
      "1/1 - 0s - loss: 0.1790 - val_loss: 0.1916 - 31ms/epoch - 31ms/step\n",
      "Epoch 17/25\n",
      "1/1 - 0s - loss: 0.1501 - val_loss: 0.1784 - 35ms/epoch - 35ms/step\n",
      "Epoch 18/25\n",
      "1/1 - 0s - loss: 0.1234 - val_loss: 0.1713 - 30ms/epoch - 30ms/step\n",
      "Epoch 19/25\n",
      "1/1 - 0s - loss: 0.1008 - val_loss: 0.1726 - 25ms/epoch - 25ms/step\n",
      "Epoch 20/25\n",
      "1/1 - 0s - loss: 0.0845 - val_loss: 0.1849 - 31ms/epoch - 31ms/step\n",
      "Epoch 21/25\n",
      "1/1 - 0s - loss: 0.0772 - val_loss: 0.2092 - 31ms/epoch - 31ms/step\n",
      "Epoch 22/25\n",
      "1/1 - 0s - loss: 0.0809 - val_loss: 0.2419 - 47ms/epoch - 47ms/step\n",
      "Epoch 23/25\n",
      "1/1 - 0s - loss: 0.0939 - val_loss: 0.2722 - 31ms/epoch - 31ms/step\n",
      "Epoch 24/25\n",
      "1/1 - 0s - loss: 0.1093 - val_loss: 0.2892 - 31ms/epoch - 31ms/step\n",
      "Epoch 25/25\n",
      "1/1 - 0s - loss: 0.1184 - val_loss: 0.2898 - 45ms/epoch - 45ms/step\n",
      "1/1 [==============================] - 1s 1s/step\n"
     ]
    }
   ],
   "source": [
    "model.fit(train_X, train_y, epochs=25, batch_size=32, validation_data=(test_X, test_y), verbose=2)\n",
    "# Make predictions on the test data\n",
    "predictions = model.predict(test_X)\n",
    "# predictions"
   ]
  },
  {
   "cell_type": "code",
   "execution_count": 10,
   "id": "3d20c34f",
   "metadata": {},
   "outputs": [
    {
     "data": {
      "text/plain": [
       "(array([[40.16052 ],\n",
       "        [40.158775],\n",
       "        [40.15954 ],\n",
       "        [40.168148],\n",
       "        [40.17059 ],\n",
       "        [40.17238 ],\n",
       "        [40.169037],\n",
       "        [40.168533],\n",
       "        [40.17023 ],\n",
       "        [40.172546],\n",
       "        [40.20248 ],\n",
       "        [40.177185],\n",
       "        [40.18019 ],\n",
       "        [40.166786],\n",
       "        [40.16519 ]], dtype=float32),\n",
       " array([[40.1],\n",
       "        [40.2],\n",
       "        [39.9],\n",
       "        [40.1],\n",
       "        [40.2],\n",
       "        [39.9],\n",
       "        [40.1],\n",
       "        [40.2],\n",
       "        [39.9],\n",
       "        [40.1],\n",
       "        [40.2],\n",
       "        [39.9],\n",
       "        [40.1],\n",
       "        [40.2],\n",
       "        [39.9]]))"
      ]
     },
     "execution_count": 10,
     "metadata": {},
     "output_type": "execute_result"
    }
   ],
   "source": [
    "test_y_rescale=scaler.inverse_transform(test_y)\n",
    "predictions_rescale=scaler.inverse_transform(predictions)\n",
    "predictions_rescale,test_y_rescale"
   ]
  },
  {
   "cell_type": "code",
   "execution_count": 11,
   "id": "5b4c070e",
   "metadata": {},
   "outputs": [
    {
     "data": {
      "image/png": "[encoded data removed]",
      "text/plain": [
       "<Figure size 432x288 with 1 Axes>"
      ]
     },
     "metadata": {
      "needs_background": "light"
     },
     "output_type": "display_data"
    },
    {
     "name": "stdout",
     "output_type": "stream",
     "text": [
      "MSE:  0.026077554496975543\n",
      "RMSE:  0.16148546218460516\n"
     ]
    }
   ],
   "source": [
    "x_range=[39.85,40.25]\n",
    "y_range=[39.85,40.25]\n",
    "plt.xlim(x_range)\n",
    "plt.ylim(y_range)\n",
    "plt.plot(x_range, y_range, color='red')\n",
    "plt.scatter(test_y_rescale,predictions_rescale)\n",
    "plt.xlabel('Actual Values')\n",
    "plt.ylabel('Predicted Values')\n",
    "plt.title('Actual vs Predicted Values')\n",
    "plt.show()\n",
    "mse = mean_squared_error(test_y_rescale,predictions_rescale)\n",
    "rmse = np.sqrt(mse)\n",
    "print(\"MSE: \",  mse)\n",
    "print(\"RMSE: \", rmse)"
   ]
  }
 ],
 "metadata": {
  "kernelspec": {
   "display_name": "Python 3 (ipykernel)",
   "language": "python",
   "name": "python3"
  },
  "language_info": {
   "codemirror_mode": {
    "name": "ipython",
    "version": 3
   },
   "file_extension": ".py",
   "mimetype": "text/x-python",
   "name": "python",
   "nbconvert_exporter": "python",
   "pygments_lexer": "ipython3",
   "version": "3.9.12"
  }
 },
 "nbformat": 4,
 "nbformat_minor": 5
}
