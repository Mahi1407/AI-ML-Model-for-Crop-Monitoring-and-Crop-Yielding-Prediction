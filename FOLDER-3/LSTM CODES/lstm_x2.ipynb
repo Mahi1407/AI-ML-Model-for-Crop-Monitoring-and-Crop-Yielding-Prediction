{
 "cells": [
  {
   "cell_type": "code",
   "execution_count": 12,
   "id": "62c4baf6",
   "metadata": {},
   "outputs": [],
   "source": [
    "import numpy as np\n",
    "import matplotlib.pyplot as plt\n",
    "import pandas as pd\n",
    "from sklearn.model_selection import train_test_split\n",
    "from sklearn.preprocessing import MinMaxScaler\n",
    "from tensorflow.keras.models import Sequential\n",
    "from tensorflow.keras.layers import LSTM, Dense\n",
    "from sklearn.preprocessing import StandardScaler\n",
    "from sklearn.metrics import mean_squared_error"
   ]
  },
  {
   "cell_type": "code",
   "execution_count": 13,
   "id": "ac10c5b9",
   "metadata": {},
   "outputs": [],
   "source": [
    "df = pd.read_csv('lbp.csv')\n",
    "df_dates=pd.to_datetime(df['Date'])\n",
    "cols = list(df)[1:10]\n",
    "df1 = df[cols].astype(float)\n",
    "# df1"
   ]
  },
  {
   "cell_type": "code",
   "execution_count": 14,
   "id": "4010164f",
   "metadata": {},
   "outputs": [],
   "source": [
    "df2=np.array(df1)\n",
    "data = df2.reshape(28,4,9)\n",
    "# data"
   ]
  },
  {
   "cell_type": "code",
   "execution_count": 15,
   "id": "457348b4",
   "metadata": {},
   "outputs": [],
   "source": [
    "train_data1, test_data1 = train_test_split(data, test_size=0.53, shuffle=False)\n",
    "# train_data1.shape,test_data1.shape"
   ]
  },
  {
   "cell_type": "code",
   "execution_count": 16,
   "id": "5209613a",
   "metadata": {},
   "outputs": [
    {
     "data": {
      "text/plain": [
       "((13, 4, 1), (13, 1), (15, 4, 1), (15, 1))"
      ]
     },
     "execution_count": 16,
     "metadata": {},
     "output_type": "execute_result"
    }
   ],
   "source": [
    "train_data=train_data1[:,:,1:2]\n",
    "train_data_o=train_data1[:,-1,-1].reshape(-1,1)\n",
    "test_data=test_data1[:,:,1:2]\n",
    "test_data_o=test_data1[:,-1,-1].reshape(-1,1)\n",
    "train_data.shape,train_data_o.shape,test_data.shape,test_data_o.shape\n"
   ]
  },
  {
   "cell_type": "code",
   "execution_count": 17,
   "id": "c78697f1",
   "metadata": {},
   "outputs": [
    {
     "data": {
      "text/plain": [
       "((13, 4, 1), (15, 4, 1), (13, 1), (15, 1))"
      ]
     },
     "execution_count": 17,
     "metadata": {},
     "output_type": "execute_result"
    }
   ],
   "source": [
    "scaler = MinMaxScaler(feature_range=(0, 1))\n",
    "train_data = scaler.fit_transform(train_data.reshape(-1, 1)).reshape(train_data.shape)\n",
    "test_data = scaler.fit_transform(test_data.reshape(-1, 1)).reshape(test_data.shape)\n",
    "train_data_o = scaler.fit_transform(train_data_o)\n",
    "test_data_o = scaler.fit_transform(test_data_o)\n",
    "train_data.shape,test_data.shape,train_data_o.shape,test_data_o.shape"
   ]
  },
  {
   "cell_type": "code",
   "execution_count": 18,
   "id": "8cca9fa9",
   "metadata": {},
   "outputs": [],
   "source": [
    "train_X = train_data[:, :,:]\n",
    "train_y = train_data_o\n",
    "test_X = test_data[:, :, :]\n",
    "test_y = test_data_o"
   ]
  },
  {
   "cell_type": "code",
   "execution_count": 19,
   "id": "c3e48ba2",
   "metadata": {},
   "outputs": [],
   "source": [
    "model = Sequential()\n",
    "model.add(LSTM(50, input_shape=(train_X.shape[1], train_X.shape[2]),return_sequences=True))\n",
    "model.add(LSTM(50,return_sequences=True))\n",
    "model.add(LSTM(50))\n",
    "model.add(Dense(1))\n",
    "model.compile(loss='mse', optimizer='adam')\n",
    "# model.summary()\n"
   ]
  },
  {
   "cell_type": "code",
   "execution_count": 20,
   "id": "3b42d79c",
   "metadata": {},
   "outputs": [
    {
     "name": "stdout",
     "output_type": "stream",
     "text": [
      "Epoch 1/25\n",
      "1/1 - 11s - loss: 0.5344 - val_loss: 0.4715 - 11s/epoch - 11s/step\n",
      "Epoch 2/25\n",
      "1/1 - 0s - loss: 0.5177 - val_loss: 0.4585 - 56ms/epoch - 56ms/step\n",
      "Epoch 3/25\n",
      "1/1 - 0s - loss: 0.5014 - val_loss: 0.4454 - 51ms/epoch - 51ms/step\n",
      "Epoch 4/25\n",
      "1/1 - 0s - loss: 0.4849 - val_loss: 0.4319 - 63ms/epoch - 63ms/step\n",
      "Epoch 5/25\n",
      "1/1 - 0s - loss: 0.4681 - val_loss: 0.4180 - 61ms/epoch - 61ms/step\n",
      "Epoch 6/25\n",
      "1/1 - 0s - loss: 0.4506 - val_loss: 0.4035 - 60ms/epoch - 60ms/step\n",
      "Epoch 7/25\n",
      "1/1 - 0s - loss: 0.4324 - val_loss: 0.3883 - 59ms/epoch - 59ms/step\n",
      "Epoch 8/25\n",
      "1/1 - 0s - loss: 0.4133 - val_loss: 0.3723 - 73ms/epoch - 73ms/step\n",
      "Epoch 9/25\n",
      "1/1 - 0s - loss: 0.3932 - val_loss: 0.3556 - 55ms/epoch - 55ms/step\n",
      "Epoch 10/25\n",
      "1/1 - 0s - loss: 0.3720 - val_loss: 0.3380 - 49ms/epoch - 49ms/step\n",
      "Epoch 11/25\n",
      "1/1 - 0s - loss: 0.3497 - val_loss: 0.3197 - 40ms/epoch - 40ms/step\n",
      "Epoch 12/25\n",
      "1/1 - 0s - loss: 0.3265 - val_loss: 0.3007 - 50ms/epoch - 50ms/step\n",
      "Epoch 13/25\n",
      "1/1 - 0s - loss: 0.3023 - val_loss: 0.2812 - 52ms/epoch - 52ms/step\n",
      "Epoch 14/25\n",
      "1/1 - 0s - loss: 0.2775 - val_loss: 0.2615 - 47ms/epoch - 47ms/step\n",
      "Epoch 15/25\n",
      "1/1 - 0s - loss: 0.2523 - val_loss: 0.2419 - 43ms/epoch - 43ms/step\n",
      "Epoch 16/25\n",
      "1/1 - 0s - loss: 0.2275 - val_loss: 0.2230 - 47ms/epoch - 47ms/step\n",
      "Epoch 17/25\n",
      "1/1 - 0s - loss: 0.2037 - val_loss: 0.2055 - 47ms/epoch - 47ms/step\n",
      "Epoch 18/25\n",
      "1/1 - 0s - loss: 0.1820 - val_loss: 0.1904 - 60ms/epoch - 60ms/step\n",
      "Epoch 19/25\n",
      "1/1 - 0s - loss: 0.1641 - val_loss: 0.1790 - 63ms/epoch - 63ms/step\n",
      "Epoch 20/25\n",
      "1/1 - 0s - loss: 0.1517 - val_loss: 0.1727 - 54ms/epoch - 54ms/step\n",
      "Epoch 21/25\n",
      "1/1 - 0s - loss: 0.1469 - val_loss: 0.1724 - 57ms/epoch - 57ms/step\n",
      "Epoch 22/25\n",
      "1/1 - 0s - loss: 0.1508 - val_loss: 0.1771 - 56ms/epoch - 56ms/step\n",
      "Epoch 23/25\n",
      "1/1 - 0s - loss: 0.1612 - val_loss: 0.1835 - 50ms/epoch - 50ms/step\n",
      "Epoch 24/25\n",
      "1/1 - 0s - loss: 0.1723 - val_loss: 0.1878 - 48ms/epoch - 48ms/step\n",
      "Epoch 25/25\n",
      "1/1 - 0s - loss: 0.1784 - val_loss: 0.1884 - 54ms/epoch - 54ms/step\n",
      "1/1 [==============================] - 2s 2s/step\n"
     ]
    }
   ],
   "source": [
    "model.fit(train_X, train_y, epochs=25, batch_size=32, validation_data=(test_X, test_y), verbose=2)\n",
    "# Make predictions on the test data\n",
    "predictions = model.predict(test_X)\n",
    "# predictions"
   ]
  },
  {
   "cell_type": "code",
   "execution_count": 21,
   "id": "3d20c34f",
   "metadata": {},
   "outputs": [
    {
     "data": {
      "text/plain": [
       "(array([[40.099632],\n",
       "        [40.10193 ],\n",
       "        [40.103302],\n",
       "        [40.10472 ],\n",
       "        [40.105217],\n",
       "        [40.10422 ],\n",
       "        [40.10596 ],\n",
       "        [40.10779 ],\n",
       "        [40.10419 ],\n",
       "        [40.10452 ],\n",
       "        [40.103996],\n",
       "        [40.1095  ],\n",
       "        [40.109478],\n",
       "        [40.113937],\n",
       "        [40.104454]], dtype=float32),\n",
       " array([[40.1],\n",
       "        [40.2],\n",
       "        [39.9],\n",
       "        [40.1],\n",
       "        [40.2],\n",
       "        [39.9],\n",
       "        [40.1],\n",
       "        [40.2],\n",
       "        [39.9],\n",
       "        [40.1],\n",
       "        [40.2],\n",
       "        [39.9],\n",
       "        [40.1],\n",
       "        [40.2],\n",
       "        [39.9]]))"
      ]
     },
     "execution_count": 21,
     "metadata": {},
     "output_type": "execute_result"
    }
   ],
   "source": [
    "test_y_rescale=scaler.inverse_transform(test_y)\n",
    "predictions_rescale=scaler.inverse_transform(predictions)\n",
    "predictions_rescale,test_y_rescale"
   ]
  },
  {
   "cell_type": "code",
   "execution_count": 22,
   "id": "5b4c070e",
   "metadata": {},
   "outputs": [
    {
     "data": {
      "image/png": "[encoded data removed]",
      "text/plain": [
       "<Figure size 432x288 with 1 Axes>"
      ]
     },
     "metadata": {
      "needs_background": "light"
     },
     "output_type": "display_data"
    },
    {
     "name": "stdout",
     "output_type": "stream",
     "text": [
      "MSE:  0.01695465737546365\n",
      "RMSE:  0.13021005097711794\n"
     ]
    }
   ],
   "source": [
    "x_range=[39.85,40.25]\n",
    "y_range=[39.85,40.25]\n",
    "plt.xlim(x_range)\n",
    "plt.ylim(y_range)\n",
    "plt.plot(x_range, y_range, color='red')\n",
    "plt.scatter(test_y_rescale,predictions_rescale)\n",
    "plt.xlabel('Actual Values')\n",
    "plt.ylabel('Predicted Values')\n",
    "plt.title('Actual vs Predicted Values')\n",
    "plt.show()\n",
    "mse = mean_squared_error(test_y_rescale,predictions_rescale)\n",
    "rmse = np.sqrt(mse)\n",
    "print(\"MSE: \",  mse)\n",
    "print(\"RMSE: \", rmse)"
   ]
  }
 ],
 "metadata": {
  "kernelspec": {
   "display_name": "Python 3 (ipykernel)",
   "language": "python",
   "name": "python3"
  },
  "language_info": {
   "codemirror_mode": {
    "name": "ipython",
    "version": 3
   },
   "file_extension": ".py",
   "mimetype": "text/x-python",
   "name": "python",
   "nbconvert_exporter": "python",
   "pygments_lexer": "ipython3",
   "version": "3.9.12"
  }
 },
 "nbformat": 4,
 "nbformat_minor": 5
}
